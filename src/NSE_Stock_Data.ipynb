{
 "cells": [
  {
   "cell_type": "code",
   "execution_count": 1,
   "metadata": {},
   "outputs": [],
   "source": [
    "from nsepy import get_history"
   ]
  },
  {
   "cell_type": "code",
   "execution_count": 2,
   "metadata": {},
   "outputs": [],
   "source": [
    "from datetime import date"
   ]
  },
  {
   "cell_type": "code",
   "execution_count": 3,
   "metadata": {},
   "outputs": [],
   "source": [
    "import pandas as pd"
   ]
  },
  {
   "cell_type": "code",
   "execution_count": 4,
   "metadata": {},
   "outputs": [],
   "source": [
    "def get_symbol_data(symbols=None, start_date=None, end_date=None, filename=None):\n",
    "    get_symbol_data = pd.DataFrame()\n",
    "    for each_symbol in symbols:\n",
    "        get_symbol_data = pd.concat([get_symbol_data, get_history(symbol=each_symbol, start=start_date, end=end_date)], axis=0)\n",
    "    get_symbol_data.to_csv(filename)"
   ]
  },
  {
   "cell_type": "code",
   "execution_count": 5,
   "metadata": {},
   "outputs": [],
   "source": [
    "nifty100 = pd.read_csv('Desktop/nifty100.csv')"
   ]
  },
  {
   "cell_type": "code",
   "execution_count": 6,
   "metadata": {
    "scrolled": true
   },
   "outputs": [
    {
     "data": {
      "text/plain": [
       "array(['ABB', 'ACC', 'ADANIPORTS', 'ABCAPITAL', 'AMBUJACEM', 'ASHOKLEY',\n",
       "       'ASIANPAINT', 'AUROPHARMA', 'DMART', 'AXISBANK', 'BAJAJ-AUTO',\n",
       "       'BAJFINANCE', 'BAJAJFINSV', 'BANDHANBNK', 'BANKBARODA', 'BEL',\n",
       "       'BHEL', 'BPCL', 'BHARTIARTL', 'INFRATEL', 'BIOCON', 'BOSCHLTD',\n",
       "       'BRITANNIA', 'CADILAHC', 'CIPLA', 'COALINDIA', 'COLPAL', 'CONCOR',\n",
       "       'DLF', 'DABUR', 'DRREDDY', 'EICHERMOT', 'GAIL', 'GICRE',\n",
       "       'GODREJCP', 'GRASIM', 'HCLTECH', 'HDFCBANK', 'HDFCLIFE', 'HAVELLS',\n",
       "       'HEROMOTOCO', 'HINDALCO', 'HINDPETRO', 'HINDUNILVR', 'HINDZINC',\n",
       "       'HDFC', 'ITC', 'ICICIBANK', 'ICICIGI', 'ICICIPRULI', 'IBULHSGFIN',\n",
       "       'IOC', 'INDUSINDBK', 'INFY', 'INDIGO', 'JSWSTEEL', 'KOTAKBANK',\n",
       "       'L&TFH', 'LICHSGFIN', 'LT', 'LUPIN', 'MRF', 'M&M', 'MARICO',\n",
       "       'MARUTI', 'MOTHERSUMI', 'NHPC', 'NMDC', 'NTPC', 'ONGC', 'OIL',\n",
       "       'OFSS', 'PETRONET', 'PIDILITIND', 'PEL', 'POWERGRID', 'PGHH',\n",
       "       'RELIANCE', 'SBILIFE', 'SHREECEM', 'SRTRANSFIN', 'SIEMENS', 'SBIN',\n",
       "       'SAIL', 'SUNPHARMA', 'SUNTV', 'TCS', 'TATAMTRDVR', 'TATAMOTORS',\n",
       "       'TATASTEEL', 'TECHM', 'NIACL', 'TITAN', 'UPL', 'ULTRACEMCO',\n",
       "       'MCDOWELL-N', 'VEDL', 'IDEA', 'WIPRO', 'YESBANK', 'ZEEL'],\n",
       "      dtype=object)"
      ]
     },
     "execution_count": 6,
     "metadata": {},
     "output_type": "execute_result"
    }
   ],
   "source": [
    "nifty100.Symbol.values"
   ]
  },
  {
   "cell_type": "code",
   "execution_count": 7,
   "metadata": {},
   "outputs": [
    {
     "name": "stdout",
     "output_type": "stream",
     "text": [
      "20.3 s ± 1.95 s per loop (mean ± std. dev. of 7 runs, 1 loop each)\n"
     ]
    }
   ],
   "source": [
    "%%timeit\n",
    "get_symbol_data(nifty100.Symbol.values, date(2014,1,1), date(2014,1,10), filename='nifty_full.csv')"
   ]
  },
  {
   "cell_type": "code",
   "execution_count": null,
   "metadata": {},
   "outputs": [],
   "source": []
  }
 ],
 "metadata": {
  "kernelspec": {
   "display_name": "Python 3",
   "language": "python",
   "name": "python3"
  },
  "language_info": {
   "codemirror_mode": {
    "name": "ipython",
    "version": 3
   },
   "file_extension": ".py",
   "mimetype": "text/x-python",
   "name": "python",
   "nbconvert_exporter": "python",
   "pygments_lexer": "ipython3",
   "version": "3.6.5"
  }
 },
 "nbformat": 4,
 "nbformat_minor": 2
}
