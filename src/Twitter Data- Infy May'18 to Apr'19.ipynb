{
 "cells": [
  {
   "cell_type": "code",
   "execution_count": 1,
   "metadata": {},
   "outputs": [],
   "source": [
    "import csv\n",
    "import time\n",
    "\n",
    "import GetOldTweets3 as got\n",
    "import pandas as pd"
   ]
  },
  {
   "cell_type": "code",
   "execution_count": 2,
   "metadata": {},
   "outputs": [],
   "source": [
    "start_date = \"2018-05-01\"\n",
    "end_date = \"2019-04-28\""
   ]
  },
  {
   "cell_type": "code",
   "execution_count": 3,
   "metadata": {},
   "outputs": [],
   "source": [
    "tweetCriteria = got.manager.TweetCriteria().setQuerySearch('infosys')\\\n",
    "                                           .setSince(start_date)\\\n",
    "                                           .setUntil(end_date)"
   ]
  },
  {
   "cell_type": "code",
   "execution_count": 4,
   "metadata": {},
   "outputs": [],
   "source": [
    "started = time.time()\n",
    "all_tweets = got.manager.TweetManager.getTweets(tweetCriteria)\n",
    "ended = time.time()"
   ]
  },
  {
   "cell_type": "code",
   "execution_count": 5,
   "metadata": {},
   "outputs": [
    {
     "name": "stdout",
     "output_type": "stream",
     "text": [
      "3465.8770649433136\n"
     ]
    }
   ],
   "source": [
    "print(ended-started)"
   ]
  },
  {
   "cell_type": "code",
   "execution_count": 6,
   "metadata": {},
   "outputs": [],
   "source": [
    "lines = [['id', 'permalink', 'username', 'to', 'text', 'date', 'retweets', 'favorites', 'mentions', 'hashtags', 'geo']]\n",
    "for _ in all_tweets:\n",
    "    lines.append([_.id, _.permalink, _.username, _.to, _.text, _.date, _.retweets, _.favorites, _.mentions, _.hashtags, _.geo])"
   ]
  },
  {
   "cell_type": "code",
   "execution_count": 7,
   "metadata": {},
   "outputs": [],
   "source": [
    "with open(f'Infosys_{start_date}_to_{end_date}.csv', 'w', encoding=\"utf-8\") as csvFile:\n",
    "    writer = csv.writer(csvFile)\n",
    "    writer.writerows(lines)"
   ]
  },
  {
   "cell_type": "code",
   "execution_count": 8,
   "metadata": {},
   "outputs": [],
   "source": [
    "data = pd.read_csv('Infosys_2018-05-01_to_2019-04-28.csv')"
   ]
  },
  {
   "cell_type": "code",
   "execution_count": 9,
   "metadata": {},
   "outputs": [
    {
     "name": "stdout",
     "output_type": "stream",
     "text": [
      "<class 'pandas.core.frame.DataFrame'>\n",
      "RangeIndex: 64884 entries, 0 to 64883\n",
      "Data columns (total 11 columns):\n",
      "id           64884 non-null int64\n",
      "permalink    64884 non-null object\n",
      "username     64884 non-null object\n",
      "to           5755 non-null object\n",
      "text         64803 non-null object\n",
      "date         64884 non-null object\n",
      "retweets     64884 non-null int64\n",
      "favorites    64884 non-null int64\n",
      "mentions     18321 non-null object\n",
      "hashtags     24013 non-null object\n",
      "geo          0 non-null float64\n",
      "dtypes: float64(1), int64(3), object(7)\n",
      "memory usage: 5.4+ MB\n"
     ]
    }
   ],
   "source": [
    "data.info()"
   ]
  },
  {
   "cell_type": "code",
   "execution_count": null,
   "metadata": {},
   "outputs": [],
   "source": []
  }
 ],
 "metadata": {
  "kernelspec": {
   "display_name": "Python 3",
   "language": "python",
   "name": "python3"
  },
  "language_info": {
   "codemirror_mode": {
    "name": "ipython",
    "version": 3
   },
   "file_extension": ".py",
   "mimetype": "text/x-python",
   "name": "python",
   "nbconvert_exporter": "python",
   "pygments_lexer": "ipython3",
   "version": "3.7.3"
  }
 },
 "nbformat": 4,
 "nbformat_minor": 2
}
