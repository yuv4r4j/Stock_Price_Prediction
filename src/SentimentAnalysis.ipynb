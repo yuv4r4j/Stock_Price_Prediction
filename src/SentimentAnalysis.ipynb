{
 "cells": [
  {
   "cell_type": "code",
   "execution_count": 1,
   "metadata": {},
   "outputs": [
    {
     "name": "stdout",
     "output_type": "stream",
     "text": [
      "Collecting textblob\n",
      "  Downloading https://files.pythonhosted.org/packages/60/f0/1d9bfcc8ee6b83472ec571406bd0dd51c0e6330ff1a51b2d29861d389e85/textblob-0.15.3-py2.py3-none-any.whl (636kB)\n",
      "Requirement already satisfied: nltk>=3.1 in c:\\users\\dell\\anaconda3\\lib\\site-packages (from textblob) (3.4)\n",
      "Requirement already satisfied: six in c:\\users\\dell\\anaconda3\\lib\\site-packages (from nltk>=3.1->textblob) (1.12.0)\n",
      "Requirement already satisfied: singledispatch in c:\\users\\dell\\anaconda3\\lib\\site-packages (from nltk>=3.1->textblob) (3.4.0.3)\n",
      "Installing collected packages: textblob\n",
      "Successfully installed textblob-0.15.3\n",
      "Note: you may need to restart the kernel to use updated packages.\n"
     ]
    }
   ],
   "source": [
    "pip install textblob"
   ]
  },
  {
   "cell_type": "code",
   "execution_count": 3,
   "metadata": {},
   "outputs": [
    {
     "name": "stdout",
     "output_type": "stream",
     "text": [
      "Finished.\n"
     ]
    },
    {
     "name": "stderr",
     "output_type": "stream",
     "text": [
      "[nltk_data] Downloading package brown to\n",
      "[nltk_data]     C:\\Users\\dell\\AppData\\Roaming\\nltk_data...\n",
      "[nltk_data]   Package brown is already up-to-date!\n",
      "[nltk_data] Downloading package punkt to\n",
      "[nltk_data]     C:\\Users\\dell\\AppData\\Roaming\\nltk_data...\n",
      "[nltk_data]   Package punkt is already up-to-date!\n",
      "[nltk_data] Downloading package wordnet to\n",
      "[nltk_data]     C:\\Users\\dell\\AppData\\Roaming\\nltk_data...\n",
      "[nltk_data]   Package wordnet is already up-to-date!\n",
      "[nltk_data] Downloading package averaged_perceptron_tagger to\n",
      "[nltk_data]     C:\\Users\\dell\\AppData\\Roaming\\nltk_data...\n",
      "[nltk_data]   Package averaged_perceptron_tagger is already up-to-\n",
      "[nltk_data]       date!\n",
      "[nltk_data] Downloading package conll2000 to\n",
      "[nltk_data]     C:\\Users\\dell\\AppData\\Roaming\\nltk_data...\n",
      "[nltk_data]   Package conll2000 is already up-to-date!\n",
      "[nltk_data] Downloading package movie_reviews to\n",
      "[nltk_data]     C:\\Users\\dell\\AppData\\Roaming\\nltk_data...\n",
      "[nltk_data] Error downloading 'movie_reviews' from\n",
      "[nltk_data]     <https://raw.githubusercontent.com/nltk/nltk_data/gh-\n",
      "[nltk_data]     pages/packages/corpora/movie_reviews.zip>:   HTTP\n",
      "[nltk_data]     Error 503: first byte timeout\n"
     ]
    }
   ],
   "source": [
    "!python -m textblob.download_corpora"
   ]
  },
  {
   "cell_type": "code",
   "execution_count": 4,
   "metadata": {},
   "outputs": [],
   "source": [
    "import re \n",
    "import os \n",
    "import glob\n",
    "import pandas as pd\n",
    "import csv\n",
    "from textblob import TextBlob"
   ]
  },
  {
   "cell_type": "code",
   "execution_count": 10,
   "metadata": {},
   "outputs": [
    {
     "name": "stdout",
     "output_type": "stream",
     "text": [
      "coninfofinal.csv\n"
     ]
    }
   ],
   "source": [
    "# Read all the company related csv files\n",
    "files = glob.glob(\"*.csv\")\n",
    "dfList = []\n",
    "for file in files:\n",
    "    print(file)\n",
    "    with open(file,encoding='utf8', errors='ignore') as f:\n",
    "        for line in csv.DictReader(f,delimiter=','):\n",
    "            dfList.append(line)"
   ]
  },
  {
   "cell_type": "code",
   "execution_count": 11,
   "metadata": {},
   "outputs": [],
   "source": [
    "# Clean all the tweets and perform sentiment analysis\n",
    "final_tweet = []\n",
    "for tweetdf in dfList:\n",
    "    parsed_tweet = {} \n",
    "    tweet = tweetdf['text']\n",
    "    retweet = int(tweetdf['retweets'])\n",
    "    tweet = ' '.join(re.sub(\"(@[A-Za-z0-9]+)|([^0-9A-Za-z \\t]) |(\\w+:\\/\\/\\S+)\", \" \", tweet).split()) \n",
    "    parsed_tweet['text'] = tweet \n",
    "    sentiment = ''\n",
    "    # do sentiment analysis\n",
    "    analysis = TextBlob(tweet) \n",
    "    if analysis.sentiment.polarity > 0: sentiment = 'positive'\n",
    "    elif analysis.sentiment.polarity == 0: sentiment = 'neutral'\n",
    "    else: sentiment = 'negative' \n",
    "    parsed_tweet['sentiment'] = sentiment \n",
    "    # appending parsed tweet to tweets list \n",
    "    if retweet > 0: \n",
    "        if parsed_tweet not in final_tweet: final_tweet.append(parsed_tweet) \n",
    "        else: final_tweet.append(parsed_tweet) "
   ]
  },
  {
   "cell_type": "code",
   "execution_count": 12,
   "metadata": {},
   "outputs": [
    {
     "name": "stdout",
     "output_type": "stream",
     "text": [
      "Positive tweets percentage: 38.23584808739427 %\n",
      "Negative tweets percentage: 10.477380911612617 %\n",
      "Negative tweets percentage: 51.28677100099312 %\n"
     ]
    }
   ],
   "source": [
    "# Calculate no of positive, negative and neutral tweets\n",
    "ptweets = [tweet for tweet in final_tweet if tweet['sentiment'] == 'positive'] \n",
    "print(\"Positive tweets percentage: {} %\".format(100*len(ptweets)/len(final_tweet)))  \n",
    "ntweets = [tweet for tweet in final_tweet if tweet['sentiment'] == 'negative'] \n",
    "print(\"Negative tweets percentage: {} %\".format(100*len(ntweets)/len(final_tweet))) \n",
    "neutraltweets = [tweet for tweet in final_tweet if tweet['sentiment'] == 'neutral'] \n",
    "print(\"Negative tweets percentage: {} %\".format(100*len(neutraltweets)/len(final_tweet))) "
   ]
  },
  {
   "cell_type": "code",
   "execution_count": 13,
   "metadata": {},
   "outputs": [
    {
     "name": "stdout",
     "output_type": "stream",
     "text": [
      "\n",
      "\n",
      "Positive tweets:\n",
      "RBS SCRAPS INFOSYS CONTRACT Reema Tendulkar tells us more on the contratc pic.twitter.com/RHZGQBwJkf\n",
      "Is it a good time to buy Infosys pic.twitter.com/AsygmaapqB\n",
      "Learn how our #integration solution helps orgs become efficient #agile adapt to #digitalization #InfosysDigital\n",
      "_nmurthy it takes time to move from \"BodyShopper mentality to \"Innovator How many patent filed pic.twitter.com/rARCOWa6da\n",
      "Right question Gaurav.\n",
      "Infosys Value Based Reimbursement yields better insight to support evidence-based preventative care #InfyHealthcare\n",
      "We have worked with many companies in the #IndustrialManufacturing space Read our success stories #RethinkMFG\n",
      "Thanks giving to their queen who gifted away 100 acres of previous land in Blore Mysore Hyd to _nmurthy\n",
      "im ready!\n",
      "TOP STORIES Infosys Stock Hits 8-Month Low After RBS Pulls Out Of 5-Year IT Contract\n",
      "\n",
      "\n",
      "Negative tweets:\n",
      "Infosys loses key UK client as Brexit begins to hurt\n",
      "#Mappingthemarket Crude shock for #Infosys Unitech midcaps hold firm pic.twitter.com/Y8SXBK5jxA\n",
      "As #3Dprinting technology continues to advance orgs are investing heavily in it to reap benefits #InfyEngineering\n",
      "Is Infosys really doing that badly Let’s cut Vishal a break.. for now\n",
      "#Infosys loses RBS project 3,000 employees to be relocated …\n",
      "Please make it happen ASAP before #BBMP make big mess #SaveOurBengaluru\n",
      "definitely a true stereotype Having seen the pomposity in display it is difficult to deny its existence.\n",
      "Infosys to sack 3000 employees due to termination of RBS contract --Sad RT\n",
      "dropped just one game on serve when up 40/0 out of 571 service games since Jan 2015 #CincyTennis #MoreATPWithInfosys\n",
      "InfoSys ATP Beyond The Numbers Hard Court Returns …\n"
     ]
    }
   ],
   "source": [
    "print(\"\\n\\nPositive tweets:\") \n",
    "for tweet in ptweets[:10]: print(tweet['text']) \n",
    "print(\"\\n\\nNegative tweets:\") \n",
    "for tweet in ntweets[:10]: print(tweet['text'])"
   ]
  },
  {
   "cell_type": "code",
   "execution_count": null,
   "metadata": {},
   "outputs": [],
   "source": []
  }
 ],
 "metadata": {
  "kernelspec": {
   "display_name": "Python 3",
   "language": "python",
   "name": "python3"
  },
  "language_info": {
   "codemirror_mode": {
    "name": "ipython",
    "version": 3
   },
   "file_extension": ".py",
   "mimetype": "text/x-python",
   "name": "python",
   "nbconvert_exporter": "python",
   "pygments_lexer": "ipython3",
   "version": "3.7.3"
  }
 },
 "nbformat": 4,
 "nbformat_minor": 2
}
